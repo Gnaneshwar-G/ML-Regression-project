{
 "cells": [
  {
   "cell_type": "code",
   "execution_count": 66,
   "id": "6f4387d3",
   "metadata": {},
   "outputs": [],
   "source": [
    "import pandas as pd\n",
    "import numpy as np\n",
    "import matplotlib.pyplot as plt\n",
    "import seaborn as sns\n",
    "from sklearn.ensemble import RandomForestRegressor,StackingRegressor,VotingRegressor,AdaBoostRegressor,GradientBoostingRegressor\n",
    "from sklearn import metrics\n",
    "from sklearn.preprocessing import LabelEncoder, StandardScaler\n",
    "from sklearn.linear_model import LinearRegression, Ridge, Lasso\n",
    "from sklearn.model_selection import cross_val_score,KFold,GridSearchCV\n",
    "from xgboost import XGBRegressor\n"
   ]
  },
  {
   "cell_type": "code",
   "execution_count": 2,
   "id": "087ed3df",
   "metadata": {},
   "outputs": [
    {
     "data": {
      "text/html": [
       "<div>\n",
       "<style scoped>\n",
       "    .dataframe tbody tr th:only-of-type {\n",
       "        vertical-align: middle;\n",
       "    }\n",
       "\n",
       "    .dataframe tbody tr th {\n",
       "        vertical-align: top;\n",
       "    }\n",
       "\n",
       "    .dataframe thead th {\n",
       "        text-align: right;\n",
       "    }\n",
       "</style>\n",
       "<table border=\"1\" class=\"dataframe\">\n",
       "  <thead>\n",
       "    <tr style=\"text-align: right;\">\n",
       "      <th></th>\n",
       "      <th>Unnamed: 0</th>\n",
       "      <th>PM2.5</th>\n",
       "      <th>PM10</th>\n",
       "      <th>NO</th>\n",
       "      <th>NO2</th>\n",
       "      <th>NOx</th>\n",
       "      <th>NH3</th>\n",
       "      <th>CO</th>\n",
       "      <th>SO2</th>\n",
       "      <th>O3</th>\n",
       "      <th>Benzene</th>\n",
       "      <th>Toluene</th>\n",
       "      <th>AQI</th>\n",
       "      <th>City</th>\n",
       "      <th>AQI_Bucket</th>\n",
       "      <th>day</th>\n",
       "    </tr>\n",
       "  </thead>\n",
       "  <tbody>\n",
       "    <tr>\n",
       "      <th>0</th>\n",
       "      <td>0</td>\n",
       "      <td>83.13</td>\n",
       "      <td>191.370</td>\n",
       "      <td>6.93</td>\n",
       "      <td>28.71</td>\n",
       "      <td>33.72</td>\n",
       "      <td>6.350</td>\n",
       "      <td>6.93</td>\n",
       "      <td>49.52</td>\n",
       "      <td>59.76</td>\n",
       "      <td>0.02</td>\n",
       "      <td>0.00</td>\n",
       "      <td>209.0</td>\n",
       "      <td>Ahmedabad</td>\n",
       "      <td>Poor</td>\n",
       "      <td>weekday</td>\n",
       "    </tr>\n",
       "    <tr>\n",
       "      <th>1</th>\n",
       "      <td>1</td>\n",
       "      <td>79.84</td>\n",
       "      <td>199.052</td>\n",
       "      <td>13.85</td>\n",
       "      <td>28.68</td>\n",
       "      <td>41.08</td>\n",
       "      <td>12.860</td>\n",
       "      <td>13.85</td>\n",
       "      <td>48.49</td>\n",
       "      <td>97.07</td>\n",
       "      <td>0.04</td>\n",
       "      <td>0.00</td>\n",
       "      <td>328.0</td>\n",
       "      <td>Ahmedabad</td>\n",
       "      <td>Very Poor</td>\n",
       "      <td>weekday</td>\n",
       "    </tr>\n",
       "    <tr>\n",
       "      <th>2</th>\n",
       "      <td>2</td>\n",
       "      <td>94.52</td>\n",
       "      <td>119.556</td>\n",
       "      <td>24.39</td>\n",
       "      <td>32.66</td>\n",
       "      <td>52.61</td>\n",
       "      <td>7.492</td>\n",
       "      <td>24.39</td>\n",
       "      <td>67.39</td>\n",
       "      <td>111.33</td>\n",
       "      <td>0.24</td>\n",
       "      <td>0.01</td>\n",
       "      <td>514.0</td>\n",
       "      <td>Ahmedabad</td>\n",
       "      <td>Severe</td>\n",
       "      <td>Weekend</td>\n",
       "    </tr>\n",
       "    <tr>\n",
       "      <th>3</th>\n",
       "      <td>3</td>\n",
       "      <td>135.99</td>\n",
       "      <td>149.970</td>\n",
       "      <td>43.48</td>\n",
       "      <td>42.08</td>\n",
       "      <td>84.57</td>\n",
       "      <td>6.428</td>\n",
       "      <td>43.48</td>\n",
       "      <td>75.23</td>\n",
       "      <td>102.70</td>\n",
       "      <td>0.40</td>\n",
       "      <td>0.04</td>\n",
       "      <td>782.0</td>\n",
       "      <td>Ahmedabad</td>\n",
       "      <td>Severe</td>\n",
       "      <td>Weekend</td>\n",
       "    </tr>\n",
       "    <tr>\n",
       "      <th>4</th>\n",
       "      <td>4</td>\n",
       "      <td>178.33</td>\n",
       "      <td>154.718</td>\n",
       "      <td>54.56</td>\n",
       "      <td>35.31</td>\n",
       "      <td>72.80</td>\n",
       "      <td>7.260</td>\n",
       "      <td>54.56</td>\n",
       "      <td>55.04</td>\n",
       "      <td>107.38</td>\n",
       "      <td>0.46</td>\n",
       "      <td>0.06</td>\n",
       "      <td>914.0</td>\n",
       "      <td>Ahmedabad</td>\n",
       "      <td>Severe</td>\n",
       "      <td>weekday</td>\n",
       "    </tr>\n",
       "  </tbody>\n",
       "</table>\n",
       "</div>"
      ],
      "text/plain": [
       "   Unnamed: 0   PM2.5     PM10     NO    NO2    NOx     NH3     CO    SO2  \\\n",
       "0           0   83.13  191.370   6.93  28.71  33.72   6.350   6.93  49.52   \n",
       "1           1   79.84  199.052  13.85  28.68  41.08  12.860  13.85  48.49   \n",
       "2           2   94.52  119.556  24.39  32.66  52.61   7.492  24.39  67.39   \n",
       "3           3  135.99  149.970  43.48  42.08  84.57   6.428  43.48  75.23   \n",
       "4           4  178.33  154.718  54.56  35.31  72.80   7.260  54.56  55.04   \n",
       "\n",
       "       O3  Benzene  Toluene    AQI       City AQI_Bucket      day  \n",
       "0   59.76     0.02     0.00  209.0  Ahmedabad       Poor  weekday  \n",
       "1   97.07     0.04     0.00  328.0  Ahmedabad  Very Poor  weekday  \n",
       "2  111.33     0.24     0.01  514.0  Ahmedabad     Severe  Weekend  \n",
       "3  102.70     0.40     0.04  782.0  Ahmedabad     Severe  Weekend  \n",
       "4  107.38     0.46     0.06  914.0  Ahmedabad     Severe  weekday  "
      ]
     },
     "execution_count": 2,
     "metadata": {},
     "output_type": "execute_result"
    }
   ],
   "source": [
    "df = pd.read_csv('Final_df.csv')\n",
    "df.head()"
   ]
  },
  {
   "cell_type": "code",
   "execution_count": 4,
   "id": "929ca1a6",
   "metadata": {},
   "outputs": [],
   "source": [
    "df.drop('Unnamed: 0',axis = 1,inplace= True)"
   ]
  },
  {
   "cell_type": "code",
   "execution_count": 6,
   "id": "fcefc360",
   "metadata": {},
   "outputs": [],
   "source": [
    "df.drop('AQI_Bucket',axis = 1,inplace= True)"
   ]
  },
  {
   "cell_type": "code",
   "execution_count": 7,
   "id": "a7f6418a",
   "metadata": {},
   "outputs": [],
   "source": [
    "le = LabelEncoder()\n",
    "df['City'] = le.fit_transform(df['City'])\n",
    "df['day'].replace({'weekday':0,'Weekend':1},inplace = True)"
   ]
  },
  {
   "cell_type": "code",
   "execution_count": 9,
   "id": "b61f2ba7",
   "metadata": {},
   "outputs": [
    {
     "data": {
      "text/html": [
       "<div>\n",
       "<style scoped>\n",
       "    .dataframe tbody tr th:only-of-type {\n",
       "        vertical-align: middle;\n",
       "    }\n",
       "\n",
       "    .dataframe tbody tr th {\n",
       "        vertical-align: top;\n",
       "    }\n",
       "\n",
       "    .dataframe thead th {\n",
       "        text-align: right;\n",
       "    }\n",
       "</style>\n",
       "<table border=\"1\" class=\"dataframe\">\n",
       "  <thead>\n",
       "    <tr style=\"text-align: right;\">\n",
       "      <th></th>\n",
       "      <th>PM2.5</th>\n",
       "      <th>PM10</th>\n",
       "      <th>NO</th>\n",
       "      <th>NO2</th>\n",
       "      <th>NOx</th>\n",
       "      <th>NH3</th>\n",
       "      <th>CO</th>\n",
       "      <th>SO2</th>\n",
       "      <th>O3</th>\n",
       "      <th>Benzene</th>\n",
       "      <th>Toluene</th>\n",
       "      <th>AQI</th>\n",
       "      <th>City</th>\n",
       "      <th>day</th>\n",
       "    </tr>\n",
       "  </thead>\n",
       "  <tbody>\n",
       "    <tr>\n",
       "      <th>0</th>\n",
       "      <td>83.13</td>\n",
       "      <td>191.370</td>\n",
       "      <td>6.93</td>\n",
       "      <td>28.71</td>\n",
       "      <td>33.72</td>\n",
       "      <td>6.350</td>\n",
       "      <td>6.93</td>\n",
       "      <td>49.52</td>\n",
       "      <td>59.76</td>\n",
       "      <td>0.02</td>\n",
       "      <td>0.00</td>\n",
       "      <td>209.0</td>\n",
       "      <td>0</td>\n",
       "      <td>0</td>\n",
       "    </tr>\n",
       "    <tr>\n",
       "      <th>1</th>\n",
       "      <td>79.84</td>\n",
       "      <td>199.052</td>\n",
       "      <td>13.85</td>\n",
       "      <td>28.68</td>\n",
       "      <td>41.08</td>\n",
       "      <td>12.860</td>\n",
       "      <td>13.85</td>\n",
       "      <td>48.49</td>\n",
       "      <td>97.07</td>\n",
       "      <td>0.04</td>\n",
       "      <td>0.00</td>\n",
       "      <td>328.0</td>\n",
       "      <td>0</td>\n",
       "      <td>0</td>\n",
       "    </tr>\n",
       "    <tr>\n",
       "      <th>2</th>\n",
       "      <td>94.52</td>\n",
       "      <td>119.556</td>\n",
       "      <td>24.39</td>\n",
       "      <td>32.66</td>\n",
       "      <td>52.61</td>\n",
       "      <td>7.492</td>\n",
       "      <td>24.39</td>\n",
       "      <td>67.39</td>\n",
       "      <td>111.33</td>\n",
       "      <td>0.24</td>\n",
       "      <td>0.01</td>\n",
       "      <td>514.0</td>\n",
       "      <td>0</td>\n",
       "      <td>1</td>\n",
       "    </tr>\n",
       "    <tr>\n",
       "      <th>3</th>\n",
       "      <td>135.99</td>\n",
       "      <td>149.970</td>\n",
       "      <td>43.48</td>\n",
       "      <td>42.08</td>\n",
       "      <td>84.57</td>\n",
       "      <td>6.428</td>\n",
       "      <td>43.48</td>\n",
       "      <td>75.23</td>\n",
       "      <td>102.70</td>\n",
       "      <td>0.40</td>\n",
       "      <td>0.04</td>\n",
       "      <td>782.0</td>\n",
       "      <td>0</td>\n",
       "      <td>1</td>\n",
       "    </tr>\n",
       "    <tr>\n",
       "      <th>4</th>\n",
       "      <td>178.33</td>\n",
       "      <td>154.718</td>\n",
       "      <td>54.56</td>\n",
       "      <td>35.31</td>\n",
       "      <td>72.80</td>\n",
       "      <td>7.260</td>\n",
       "      <td>54.56</td>\n",
       "      <td>55.04</td>\n",
       "      <td>107.38</td>\n",
       "      <td>0.46</td>\n",
       "      <td>0.06</td>\n",
       "      <td>914.0</td>\n",
       "      <td>0</td>\n",
       "      <td>0</td>\n",
       "    </tr>\n",
       "  </tbody>\n",
       "</table>\n",
       "</div>"
      ],
      "text/plain": [
       "    PM2.5     PM10     NO    NO2    NOx     NH3     CO    SO2      O3  \\\n",
       "0   83.13  191.370   6.93  28.71  33.72   6.350   6.93  49.52   59.76   \n",
       "1   79.84  199.052  13.85  28.68  41.08  12.860  13.85  48.49   97.07   \n",
       "2   94.52  119.556  24.39  32.66  52.61   7.492  24.39  67.39  111.33   \n",
       "3  135.99  149.970  43.48  42.08  84.57   6.428  43.48  75.23  102.70   \n",
       "4  178.33  154.718  54.56  35.31  72.80   7.260  54.56  55.04  107.38   \n",
       "\n",
       "   Benzene  Toluene    AQI  City  day  \n",
       "0     0.02     0.00  209.0     0    0  \n",
       "1     0.04     0.00  328.0     0    0  \n",
       "2     0.24     0.01  514.0     0    1  \n",
       "3     0.40     0.04  782.0     0    1  \n",
       "4     0.46     0.06  914.0     0    0  "
      ]
     },
     "execution_count": 9,
     "metadata": {},
     "output_type": "execute_result"
    }
   ],
   "source": [
    "df.head()"
   ]
  },
  {
   "cell_type": "code",
   "execution_count": 10,
   "id": "27a09edf",
   "metadata": {},
   "outputs": [],
   "source": [
    "x = df.drop('AQI',axis = 1)\n",
    "y = df['AQI']"
   ]
  },
  {
   "cell_type": "code",
   "execution_count": 14,
   "id": "59dd6185",
   "metadata": {},
   "outputs": [],
   "source": [
    "sc =StandardScaler()\n",
    "x.iloc[:,:-2] = sc.fit_transform(x.iloc[:,:-2])"
   ]
  },
  {
   "cell_type": "code",
   "execution_count": 15,
   "id": "22f8beee",
   "metadata": {},
   "outputs": [
    {
     "data": {
      "text/html": [
       "<div>\n",
       "<style scoped>\n",
       "    .dataframe tbody tr th:only-of-type {\n",
       "        vertical-align: middle;\n",
       "    }\n",
       "\n",
       "    .dataframe tbody tr th {\n",
       "        vertical-align: top;\n",
       "    }\n",
       "\n",
       "    .dataframe thead th {\n",
       "        text-align: right;\n",
       "    }\n",
       "</style>\n",
       "<table border=\"1\" class=\"dataframe\">\n",
       "  <thead>\n",
       "    <tr style=\"text-align: right;\">\n",
       "      <th></th>\n",
       "      <th>PM2.5</th>\n",
       "      <th>PM10</th>\n",
       "      <th>NO</th>\n",
       "      <th>NO2</th>\n",
       "      <th>NOx</th>\n",
       "      <th>NH3</th>\n",
       "      <th>CO</th>\n",
       "      <th>SO2</th>\n",
       "      <th>O3</th>\n",
       "      <th>Benzene</th>\n",
       "      <th>Toluene</th>\n",
       "      <th>City</th>\n",
       "      <th>day</th>\n",
       "    </tr>\n",
       "  </thead>\n",
       "  <tbody>\n",
       "    <tr>\n",
       "      <th>0</th>\n",
       "      <td>0.254217</td>\n",
       "      <td>0.651623</td>\n",
       "      <td>-0.476821</td>\n",
       "      <td>-0.004824</td>\n",
       "      <td>0.091393</td>\n",
       "      <td>-0.743025</td>\n",
       "      <td>0.654868</td>\n",
       "      <td>2.016799</td>\n",
       "      <td>1.159335</td>\n",
       "      <td>-0.219486</td>\n",
       "      <td>-0.437016</td>\n",
       "      <td>0</td>\n",
       "      <td>0</td>\n",
       "    </tr>\n",
       "    <tr>\n",
       "      <th>1</th>\n",
       "      <td>0.201756</td>\n",
       "      <td>0.733869</td>\n",
       "      <td>-0.166652</td>\n",
       "      <td>-0.006047</td>\n",
       "      <td>0.335071</td>\n",
       "      <td>-0.472774</td>\n",
       "      <td>1.639705</td>\n",
       "      <td>1.957692</td>\n",
       "      <td>2.890284</td>\n",
       "      <td>-0.218242</td>\n",
       "      <td>-0.437016</td>\n",
       "      <td>0</td>\n",
       "      <td>0</td>\n",
       "    </tr>\n",
       "    <tr>\n",
       "      <th>2</th>\n",
       "      <td>0.435839</td>\n",
       "      <td>-0.117245</td>\n",
       "      <td>0.305772</td>\n",
       "      <td>0.156150</td>\n",
       "      <td>0.716811</td>\n",
       "      <td>-0.695617</td>\n",
       "      <td>3.139730</td>\n",
       "      <td>3.042282</td>\n",
       "      <td>3.551859</td>\n",
       "      <td>-0.205807</td>\n",
       "      <td>-0.436504</td>\n",
       "      <td>0</td>\n",
       "      <td>1</td>\n",
       "    </tr>\n",
       "    <tr>\n",
       "      <th>3</th>\n",
       "      <td>1.097107</td>\n",
       "      <td>0.208379</td>\n",
       "      <td>1.161426</td>\n",
       "      <td>0.540043</td>\n",
       "      <td>1.774957</td>\n",
       "      <td>-0.739787</td>\n",
       "      <td>5.856569</td>\n",
       "      <td>3.492187</td>\n",
       "      <td>3.151481</td>\n",
       "      <td>-0.195858</td>\n",
       "      <td>-0.434968</td>\n",
       "      <td>0</td>\n",
       "      <td>1</td>\n",
       "    </tr>\n",
       "    <tr>\n",
       "      <th>4</th>\n",
       "      <td>1.772249</td>\n",
       "      <td>0.259213</td>\n",
       "      <td>1.658054</td>\n",
       "      <td>0.264145</td>\n",
       "      <td>1.385271</td>\n",
       "      <td>-0.705248</td>\n",
       "      <td>7.433446</td>\n",
       "      <td>2.333568</td>\n",
       "      <td>3.368604</td>\n",
       "      <td>-0.192128</td>\n",
       "      <td>-0.433944</td>\n",
       "      <td>0</td>\n",
       "      <td>0</td>\n",
       "    </tr>\n",
       "    <tr>\n",
       "      <th>...</th>\n",
       "      <td>...</td>\n",
       "      <td>...</td>\n",
       "      <td>...</td>\n",
       "      <td>...</td>\n",
       "      <td>...</td>\n",
       "      <td>...</td>\n",
       "      <td>...</td>\n",
       "      <td>...</td>\n",
       "      <td>...</td>\n",
       "      <td>...</td>\n",
       "      <td>...</td>\n",
       "      <td>...</td>\n",
       "      <td>...</td>\n",
       "    </tr>\n",
       "    <tr>\n",
       "      <th>24796</th>\n",
       "      <td>-0.831845</td>\n",
       "      <td>-0.851874</td>\n",
       "      <td>-0.443204</td>\n",
       "      <td>-0.153573</td>\n",
       "      <td>-0.378085</td>\n",
       "      <td>-0.488964</td>\n",
       "      <td>-0.264502</td>\n",
       "      <td>-0.334296</td>\n",
       "      <td>-0.532180</td>\n",
       "      <td>-0.081453</td>\n",
       "      <td>0.180915</td>\n",
       "      <td>25</td>\n",
       "      <td>1</td>\n",
       "    </tr>\n",
       "    <tr>\n",
       "      <th>24797</th>\n",
       "      <td>-0.682593</td>\n",
       "      <td>-0.604021</td>\n",
       "      <td>-0.634146</td>\n",
       "      <td>-0.112820</td>\n",
       "      <td>-0.477742</td>\n",
       "      <td>-0.508890</td>\n",
       "      <td>-0.257386</td>\n",
       "      <td>-0.094997</td>\n",
       "      <td>-0.214847</td>\n",
       "      <td>-0.174718</td>\n",
       "      <td>-0.323874</td>\n",
       "      <td>25</td>\n",
       "      <td>1</td>\n",
       "    </tr>\n",
       "    <tr>\n",
       "      <th>24798</th>\n",
       "      <td>-0.706034</td>\n",
       "      <td>-0.693526</td>\n",
       "      <td>-0.632802</td>\n",
       "      <td>0.028593</td>\n",
       "      <td>-0.418147</td>\n",
       "      <td>-0.562027</td>\n",
       "      <td>-0.263079</td>\n",
       "      <td>-0.341756</td>\n",
       "      <td>-0.176805</td>\n",
       "      <td>-0.220107</td>\n",
       "      <td>-0.436504</td>\n",
       "      <td>25</td>\n",
       "      <td>0</td>\n",
       "    </tr>\n",
       "    <tr>\n",
       "      <th>24799</th>\n",
       "      <td>-0.806013</td>\n",
       "      <td>-0.862259</td>\n",
       "      <td>-0.605908</td>\n",
       "      <td>0.017590</td>\n",
       "      <td>-0.402586</td>\n",
       "      <td>-0.590256</td>\n",
       "      <td>-0.257386</td>\n",
       "      <td>-0.260268</td>\n",
       "      <td>-0.300212</td>\n",
       "      <td>-0.220729</td>\n",
       "      <td>-0.437016</td>\n",
       "      <td>25</td>\n",
       "      <td>0</td>\n",
       "    </tr>\n",
       "    <tr>\n",
       "      <th>24800</th>\n",
       "      <td>-0.832164</td>\n",
       "      <td>-0.690636</td>\n",
       "      <td>-0.769509</td>\n",
       "      <td>-0.080625</td>\n",
       "      <td>-0.559851</td>\n",
       "      <td>-0.790765</td>\n",
       "      <td>-0.247424</td>\n",
       "      <td>-0.704434</td>\n",
       "      <td>-0.822141</td>\n",
       "      <td>-0.165392</td>\n",
       "      <td>-0.218411</td>\n",
       "      <td>25</td>\n",
       "      <td>0</td>\n",
       "    </tr>\n",
       "  </tbody>\n",
       "</table>\n",
       "<p>24801 rows × 13 columns</p>\n",
       "</div>"
      ],
      "text/plain": [
       "          PM2.5      PM10        NO       NO2       NOx       NH3        CO  \\\n",
       "0      0.254217  0.651623 -0.476821 -0.004824  0.091393 -0.743025  0.654868   \n",
       "1      0.201756  0.733869 -0.166652 -0.006047  0.335071 -0.472774  1.639705   \n",
       "2      0.435839 -0.117245  0.305772  0.156150  0.716811 -0.695617  3.139730   \n",
       "3      1.097107  0.208379  1.161426  0.540043  1.774957 -0.739787  5.856569   \n",
       "4      1.772249  0.259213  1.658054  0.264145  1.385271 -0.705248  7.433446   \n",
       "...         ...       ...       ...       ...       ...       ...       ...   \n",
       "24796 -0.831845 -0.851874 -0.443204 -0.153573 -0.378085 -0.488964 -0.264502   \n",
       "24797 -0.682593 -0.604021 -0.634146 -0.112820 -0.477742 -0.508890 -0.257386   \n",
       "24798 -0.706034 -0.693526 -0.632802  0.028593 -0.418147 -0.562027 -0.263079   \n",
       "24799 -0.806013 -0.862259 -0.605908  0.017590 -0.402586 -0.590256 -0.257386   \n",
       "24800 -0.832164 -0.690636 -0.769509 -0.080625 -0.559851 -0.790765 -0.247424   \n",
       "\n",
       "            SO2        O3   Benzene   Toluene  City  day  \n",
       "0      2.016799  1.159335 -0.219486 -0.437016     0    0  \n",
       "1      1.957692  2.890284 -0.218242 -0.437016     0    0  \n",
       "2      3.042282  3.551859 -0.205807 -0.436504     0    1  \n",
       "3      3.492187  3.151481 -0.195858 -0.434968     0    1  \n",
       "4      2.333568  3.368604 -0.192128 -0.433944     0    0  \n",
       "...         ...       ...       ...       ...   ...  ...  \n",
       "24796 -0.334296 -0.532180 -0.081453  0.180915    25    1  \n",
       "24797 -0.094997 -0.214847 -0.174718 -0.323874    25    1  \n",
       "24798 -0.341756 -0.176805 -0.220107 -0.436504    25    0  \n",
       "24799 -0.260268 -0.300212 -0.220729 -0.437016    25    0  \n",
       "24800 -0.704434 -0.822141 -0.165392 -0.218411    25    0  \n",
       "\n",
       "[24801 rows x 13 columns]"
      ]
     },
     "execution_count": 15,
     "metadata": {},
     "output_type": "execute_result"
    }
   ],
   "source": [
    "x"
   ]
  },
  {
   "cell_type": "code",
   "execution_count": 84,
   "id": "affe8444",
   "metadata": {},
   "outputs": [],
   "source": [
    "def get_adj_r_sq(x1,r_sq):\n",
    "    n = x1.shape[0]\n",
    "\n",
    "    k = x1.shape[1]\n",
    "\n",
    "    r_sq_adj = 1 - ((1-r_sq)*(n-1)/(n-k-1))\n",
    "    return r_sq_adj\n"
   ]
  },
  {
   "cell_type": "markdown",
   "id": "7903c879",
   "metadata": {},
   "source": [
    "# Linear Model - Linear Regression"
   ]
  },
  {
   "cell_type": "code",
   "execution_count": 113,
   "id": "9e0d7909",
   "metadata": {},
   "outputs": [],
   "source": [
    "model_name = 'Linear Regression'"
   ]
  },
  {
   "cell_type": "code",
   "execution_count": 114,
   "id": "05514970",
   "metadata": {},
   "outputs": [
    {
     "name": "stdout",
     "output_type": "stream",
     "text": [
      "[49.52993221 47.74132831 53.71176813]\n",
      "\n",
      "RMSE for Linear Regression is 50.3277\n"
     ]
    }
   ],
   "source": [
    "lr = LinearRegression()\n",
    "kf = KFold(n_splits = 3,shuffle = True,random_state = 10)\n",
    "scores_lm_rmse = cross_val_score(lr,x,y,cv = kf,scoring = 'neg_root_mean_squared_error')\n",
    "print(np.abs(scores_lm_rmse))\n",
    "print()\n",
    "print('RMSE for',model_name,'is',round(np.mean(np.abs(scores_lm_rmse)),4))"
   ]
  },
  {
   "cell_type": "code",
   "execution_count": 115,
   "id": "5b6116a5",
   "metadata": {},
   "outputs": [
    {
     "name": "stdout",
     "output_type": "stream",
     "text": [
      "[0.8829496  0.87699709 0.85549857]\n",
      "\n",
      "R-square for Linear Regression is 0.8718\n"
     ]
    }
   ],
   "source": [
    "lr = LinearRegression()\n",
    "kf = KFold(n_splits = 3,shuffle = True,random_state = 10)\n",
    "scores_lm_r2 = cross_val_score(lr,x,y,cv = kf,scoring = 'r2')\n",
    "print(np.abs(scores_lm_r2))\n",
    "print()\n",
    "lm_r2 = round(np.mean(np.abs(scores_lm_r2)),4)\n",
    "print('R-square for',model_name,'is',lm_r2)"
   ]
  },
  {
   "cell_type": "code",
   "execution_count": 38,
   "id": "d20e18b0",
   "metadata": {},
   "outputs": [
    {
     "name": "stdout",
     "output_type": "stream",
     "text": [
      "Adj.R-square for Linear Regression is 0.8709\n"
     ]
    }
   ],
   "source": [
    "print('Adj.R-square for',model_name,'is',round(get_r_sq(x,lm_r2),4))"
   ]
  },
  {
   "cell_type": "markdown",
   "id": "3ba115ac",
   "metadata": {},
   "source": [
    "# Linear Regression - Ridge"
   ]
  },
  {
   "cell_type": "code",
   "execution_count": 116,
   "id": "1bc9495d",
   "metadata": {},
   "outputs": [],
   "source": [
    "model_name = 'Linear Regression - Ridge'"
   ]
  },
  {
   "cell_type": "code",
   "execution_count": 117,
   "id": "effc3dcb",
   "metadata": {},
   "outputs": [
    {
     "data": {
      "text/plain": [
       "GridSearchCV(cv=3, estimator=Ridge(random_state=100),\n",
       "             param_grid={'alpha': [1e-05, 0.0001, 0.001, 0.005, 0.01, 0.05, 0.1,\n",
       "                                   0.5, 1, 5, 10]},\n",
       "             scoring='neg_root_mean_squared_error')"
      ]
     },
     "execution_count": 117,
     "metadata": {},
     "output_type": "execute_result"
    }
   ],
   "source": [
    "ridge = Ridge(random_state=100)\n",
    "parameters = {'alpha':[0.00001,0.0001,0.001,0.005,0.01,0.05,0.1,0.5,1,5,10]}\n",
    "ridge_grid = GridSearchCV(ridge,parameters,scoring = 'neg_root_mean_squared_error',cv = 3)\n",
    "ridge_grid.fit(x,y)"
   ]
  },
  {
   "cell_type": "code",
   "execution_count": 118,
   "id": "79ccfa65",
   "metadata": {},
   "outputs": [
    {
     "data": {
      "text/plain": [
       "{'alpha': 1e-05}"
      ]
     },
     "execution_count": 118,
     "metadata": {},
     "output_type": "execute_result"
    }
   ],
   "source": [
    "ridge_grid.best_params_"
   ]
  },
  {
   "cell_type": "code",
   "execution_count": 121,
   "id": "13011239",
   "metadata": {},
   "outputs": [
    {
     "name": "stdout",
     "output_type": "stream",
     "text": [
      "[49.53605211 47.74929448 53.70261317]\n",
      "\n",
      "RMSE for Linear Regression - Ridge is 50.3293\n"
     ]
    }
   ],
   "source": [
    "ridge = Ridge(random_state=100,alpha = 90)\n",
    "kf = KFold(n_splits = 3,shuffle = True,random_state = 10)\n",
    "scores_ridge_rmse = cross_val_score(ridge,x,y,cv = kf,scoring = 'neg_root_mean_squared_error')\n",
    "print(np.abs(scores_ridge_rmse))\n",
    "print()\n",
    "print('RMSE for',model_name,'is',round(np.mean(np.abs(scores_ridge_rmse)),4))"
   ]
  },
  {
   "cell_type": "code",
   "execution_count": 122,
   "id": "e8a4255c",
   "metadata": {},
   "outputs": [
    {
     "name": "stdout",
     "output_type": "stream",
     "text": [
      "[0.88292067 0.87695604 0.85554783]\n",
      "\n",
      "R-square for Linear Regression - Ridge is 0.871\n"
     ]
    }
   ],
   "source": [
    "ridge = Ridge(random_state=100,alpha = 90)\n",
    "kf = KFold(n_splits = 3,shuffle = True,random_state = 10)\n",
    "scores_ridge_r2 = cross_val_score(ridge,x,y,cv = kf,scoring = 'r2')\n",
    "print(np.abs(scores_ridge_r2))\n",
    "print()\n",
    "r_sq = round(np.mean(np.abs(scores)),4)\n",
    "print('R-square for',model_name,'is',r_sq)"
   ]
  },
  {
   "cell_type": "code",
   "execution_count": 54,
   "id": "ee875634",
   "metadata": {},
   "outputs": [
    {
     "name": "stdout",
     "output_type": "stream",
     "text": [
      "Adj.R-square for Linear Regression - Ridge is 0.8709\n"
     ]
    }
   ],
   "source": [
    "print('Adj.R-square for',model_name,'is',round(get_r_sq(x,lm_r2),4))"
   ]
  },
  {
   "cell_type": "markdown",
   "id": "89eb518f",
   "metadata": {},
   "source": [
    "# Linear Regression - Lasso"
   ]
  },
  {
   "cell_type": "code",
   "execution_count": 107,
   "id": "eb939ec0",
   "metadata": {},
   "outputs": [],
   "source": [
    "model_name = 'Linear Regression - Lasso'"
   ]
  },
  {
   "cell_type": "code",
   "execution_count": 142,
   "id": "23ab283f",
   "metadata": {},
   "outputs": [
    {
     "data": {
      "text/plain": [
       "GridSearchCV(cv=3, estimator=Lasso(random_state=100),\n",
       "             param_grid={'alpha': [1e-15, 1e-12, 1e-08, 1e-05, 0.001, 0.005,\n",
       "                                   0.01, 0.05, 0.1, 0.5, 1]},\n",
       "             scoring='neg_root_mean_squared_error')"
      ]
     },
     "execution_count": 142,
     "metadata": {},
     "output_type": "execute_result"
    }
   ],
   "source": [
    "lasso = Lasso(random_state=100)\n",
    "parameters = {'alpha':[1e-15,1e-12,1e-08,1e-05,0.001,0.005,0.01,0.05,0.1,0.5,1]}\n",
    "lasso_grid = GridSearchCV(lasso,parameters,scoring = 'neg_root_mean_squared_error',cv = 3)\n",
    "lasso_grid.fit(x,y)"
   ]
  },
  {
   "cell_type": "code",
   "execution_count": 109,
   "id": "f28a3f32",
   "metadata": {},
   "outputs": [
    {
     "data": {
      "text/plain": [
       "{'alpha': 1e-15}"
      ]
     },
     "execution_count": 109,
     "metadata": {},
     "output_type": "execute_result"
    }
   ],
   "source": [
    "lasso_grid.best_params_"
   ]
  },
  {
   "cell_type": "code",
   "execution_count": 143,
   "id": "7d69b1f4",
   "metadata": {},
   "outputs": [
    {
     "name": "stdout",
     "output_type": "stream",
     "text": [
      "[49.52993221 47.74132831 53.71176813]\n",
      "\n",
      "RMSE for Linear Regression - Ridge is 50.3277\n"
     ]
    }
   ],
   "source": [
    "lasso = Lasso(random_state=100,alpha = 1e-15)\n",
    "kf = KFold(n_splits = 3,shuffle = True,random_state = 10)\n",
    "scores_lasso_rmse = cross_val_score(lasso,x,y,cv = kf,scoring = 'neg_root_mean_squared_error')\n",
    "print(np.abs(scores_lasso_rmse))\n",
    "print()\n",
    "print('RMSE for',model_name,'is',round(np.mean(np.abs(scores_lasso_rmse)),4))"
   ]
  },
  {
   "cell_type": "code",
   "execution_count": 144,
   "id": "5d84874c",
   "metadata": {},
   "outputs": [
    {
     "name": "stdout",
     "output_type": "stream",
     "text": [
      "[0.8829496  0.87699709 0.85549857]\n",
      "\n",
      "R-square for Linear Regression - Ridge is 0.8718\n"
     ]
    }
   ],
   "source": [
    "lasso = Lasso(random_state=100,alpha = 1e-25 )\n",
    "kf = KFold(n_splits = 3,shuffle = True,random_state = 10)\n",
    "scores_lasso_r2 = cross_val_score(lasso,x,y,cv = kf,scoring = 'r2')\n",
    "print(np.abs(scores_lasso_r2))\n",
    "print()\n",
    "scores_lasso_r2 = round(np.mean(np.abs(scores_lasso_r2)),4)\n",
    "print('R-square for',model_name,'is',scores_lasso_r2)"
   ]
  },
  {
   "cell_type": "code",
   "execution_count": 88,
   "id": "07101dfc",
   "metadata": {},
   "outputs": [
    {
     "name": "stdout",
     "output_type": "stream",
     "text": [
      "Adj.R-square for Random Forest Regressor is 0.8717\n"
     ]
    }
   ],
   "source": [
    "print('Adj.R-square for',model_name,'is',round(get_adj_r_sq(x,scores_lasso_r2),4))"
   ]
  },
  {
   "cell_type": "markdown",
   "id": "8026f53f",
   "metadata": {},
   "source": [
    "# Random Forest Regressor"
   ]
  },
  {
   "cell_type": "code",
   "execution_count": 86,
   "id": "c5c14cba",
   "metadata": {},
   "outputs": [],
   "source": [
    "model_name = 'Random Forest Regressor'"
   ]
  },
  {
   "cell_type": "code",
   "execution_count": 87,
   "id": "9363e2fb",
   "metadata": {},
   "outputs": [
    {
     "data": {
      "text/plain": [
       "GridSearchCV(cv=3, estimator=RandomForestRegressor(random_state=100),\n",
       "             param_grid={'max_depth': range(3, 8),\n",
       "                         'min_samples_split': [2, 3, 4, 5],\n",
       "                         'n_estimators': [80, 100, 125, 150]},\n",
       "             scoring='neg_root_mean_squared_error')"
      ]
     },
     "execution_count": 87,
     "metadata": {},
     "output_type": "execute_result"
    }
   ],
   "source": [
    "rnd = RandomForestRegressor(random_state=100)\n",
    "tuning_parameters = {'n_estimators': [80,100,125,150],\n",
    "                     'max_depth': range(3,8),\n",
    "                     'min_samples_split': [2, 3, 4,5]}\n",
    "rnd_grid = GridSearchCV(rnd,tuning_parameters,cv = 3,scoring = 'neg_root_mean_squared_error')\n",
    "rnd_grid.fit(x,y)"
   ]
  },
  {
   "cell_type": "code",
   "execution_count": 90,
   "id": "e557749c",
   "metadata": {},
   "outputs": [
    {
     "data": {
      "text/plain": [
       "{'max_depth': 7, 'min_samples_split': 3, 'n_estimators': 150}"
      ]
     },
     "execution_count": 90,
     "metadata": {},
     "output_type": "execute_result"
    }
   ],
   "source": [
    "rnd_grid.best_params_"
   ]
  },
  {
   "cell_type": "code",
   "execution_count": 91,
   "id": "ec96a32d",
   "metadata": {},
   "outputs": [
    {
     "name": "stdout",
     "output_type": "stream",
     "text": [
      "[44.01652356 40.22014286 43.36445404]\n",
      "\n",
      "RMSE for Random Forest Regressor is 42.5337\n"
     ]
    }
   ],
   "source": [
    "rnd = RandomForestRegressor(random_state=100,max_depth= 7,min_samples_split=3 ,n_estimators = 150)\n",
    "kf = KFold(n_splits = 3,shuffle = True,random_state = 10)\n",
    "scores_rnd_rmse = cross_val_score(rnd,x,y,cv = kf,scoring = 'neg_root_mean_squared_error')\n",
    "print(np.abs(scores_rnd_rmse))\n",
    "print()\n",
    "print('RMSE for',model_name,'is',round(np.mean(np.abs(scores_rnd_rmse)),4))"
   ]
  },
  {
   "cell_type": "code",
   "execution_count": null,
   "id": "3e228ad8",
   "metadata": {},
   "outputs": [],
   "source": [
    "rnd = RandomForestRegressor(random_state=100,max_depth= ,min_samples_split= ,n_estimators = )\n",
    "kf = KFold(n_splits = 3,shuffle = True,random_state = 10)\n",
    "scores_rnd_r2 = cross_val_score(rnd,x,y,cv = kf,scoring = 'r2')\n",
    "print(np.abs(scores_rnd_r2))\n",
    "print()\n",
    "scores_rnd_r2 = round(np.mean(np.abs(scores_rnd_r2)),4)\n",
    "print('R-square for',model_name,'is',scores_rnd_r2)"
   ]
  },
  {
   "cell_type": "code",
   "execution_count": null,
   "id": "ed8d2ea8",
   "metadata": {},
   "outputs": [],
   "source": [
    "print('Adj.R-square for',model_name,'is',round(get_r_sq(x,scores_rnd_r2),4))"
   ]
  },
  {
   "cell_type": "markdown",
   "id": "5dad8e97",
   "metadata": {},
   "source": [
    "# Adaboost Regressor"
   ]
  },
  {
   "cell_type": "code",
   "execution_count": 100,
   "id": "5d1dd56b",
   "metadata": {},
   "outputs": [],
   "source": [
    "model_name = 'Adaboost Regressor'"
   ]
  },
  {
   "cell_type": "code",
   "execution_count": 101,
   "id": "f6eb281d",
   "metadata": {},
   "outputs": [
    {
     "data": {
      "text/plain": [
       "GridSearchCV(cv=3,\n",
       "             estimator=AdaBoostRegressor(base_estimator=RandomForestRegressor(max_depth=7,\n",
       "                                                                              min_samples_split=3,\n",
       "                                                                              n_estimators=150,\n",
       "                                                                              random_state=100),\n",
       "                                         random_state=100),\n",
       "             param_grid={'learning_rate': [0.01, 0.05, 0.1, 0.5, 1]},\n",
       "             scoring='r2')"
      ]
     },
     "execution_count": 101,
     "metadata": {},
     "output_type": "execute_result"
    }
   ],
   "source": [
    "adb = AdaBoostRegressor(base_estimator = rnd,random_state=100)\n",
    "tuning_parameters = {'learning_rate': [0.01,0.05,0.1,0.5, 1]}\n",
    "adb_grid = GridSearchCV(adb,tuning_parameters,cv = 3,scoring = 'r2')\n",
    "adb_grid.fit(x,y)"
   ]
  },
  {
   "cell_type": "code",
   "execution_count": 102,
   "id": "68c157b5",
   "metadata": {},
   "outputs": [
    {
     "data": {
      "text/plain": [
       "{'learning_rate': 0.05}"
      ]
     },
     "execution_count": 102,
     "metadata": {},
     "output_type": "execute_result"
    }
   ],
   "source": [
    "adb_grid.best_params_"
   ]
  },
  {
   "cell_type": "code",
   "execution_count": 103,
   "id": "703e00d6",
   "metadata": {},
   "outputs": [
    {
     "name": "stdout",
     "output_type": "stream",
     "text": [
      "[42.28394156 39.25235758 42.62897549]\n",
      "\n",
      "RMSE for Adaboost Regressor is 41.3884\n"
     ]
    }
   ],
   "source": [
    "adb = AdaBoostRegressor(base_estimator = rnd,random_state=100,learning_rate= 0.05)\n",
    "kf = KFold(n_splits = 3,shuffle = True,random_state = 10)\n",
    "scores_adb_rmse = cross_val_score(adb,x,y,cv = kf,scoring = 'neg_root_mean_squared_error')\n",
    "print(np.abs(scores_adb_rmse))\n",
    "print()\n",
    "print('RMSE for',model_name,'is',round(np.mean(np.abs(scores_adb_rmse)),4))"
   ]
  },
  {
   "cell_type": "code",
   "execution_count": 105,
   "id": "f5a99782",
   "metadata": {},
   "outputs": [
    {
     "name": "stdout",
     "output_type": "stream",
     "text": [
      "[0.91469227 0.91685084 0.9089787 ]\n",
      "\n",
      "R-square for Adaboost Regressor is 0.9135\n"
     ]
    }
   ],
   "source": [
    "adb = AdaBoostRegressor(base_estimator = rnd,random_state=100,learning_rate= 0.05)\n",
    "kf = KFold(n_splits = 3,shuffle = True,random_state = 10)\n",
    "scores_adb_r2 = cross_val_score(adb,x,y,cv = kf,scoring = 'r2')\n",
    "print(np.abs(scores_adb_r2))\n",
    "print()\n",
    "scores_adb_r2 = round(np.mean(np.abs(scores_adb_r2)),4)\n",
    "print('R-square for',model_name,'is',scores_adb_r2)"
   ]
  },
  {
   "cell_type": "code",
   "execution_count": 106,
   "id": "d178fa21",
   "metadata": {},
   "outputs": [
    {
     "name": "stdout",
     "output_type": "stream",
     "text": [
      "Adj.R-square for Adaboost Regressor is 0.8709\n"
     ]
    }
   ],
   "source": [
    "print('Adj.R-square for',model_name,'is',round(get_r_sq(x,scores_adb_r2),4))"
   ]
  },
  {
   "cell_type": "markdown",
   "id": "d4154d90",
   "metadata": {},
   "source": [
    "# Gradient Boost Regressor"
   ]
  },
  {
   "cell_type": "code",
   "execution_count": 74,
   "id": "5f5c7623",
   "metadata": {},
   "outputs": [],
   "source": [
    "model_name = 'Gradient Boost Regressor'"
   ]
  },
  {
   "cell_type": "code",
   "execution_count": 75,
   "id": "4d461470",
   "metadata": {},
   "outputs": [
    {
     "data": {
      "text/plain": [
       "GridSearchCV(cv=3, estimator=GradientBoostingRegressor(random_state=100),\n",
       "             param_grid={'alpha': [0.1, 0.2, 0.3, 0.4, 0.5, 0.6],\n",
       "                         'learning_rate': [0.1, 0.2, 0.3, 0.4],\n",
       "                         'max_depth': [2, 3, 4]},\n",
       "             scoring='r2')"
      ]
     },
     "execution_count": 75,
     "metadata": {},
     "output_type": "execute_result"
    }
   ],
   "source": [
    "gb = GradientBoostingRegressor(random_state = 100)\n",
    "tuning_parameters = {'learning_rate': [0.1, 0.2, 0.3, 0.4],\n",
    "                     'alpha': [0.1,0.2,0.3,0.4,0.5,0.6],\n",
    "                     'max_depth': [2,3,4]}\n",
    "gb_grid = GridSearchCV(gb,tuning_parameters,cv = 3,scoring = 'r2')\n",
    "gb_grid.fit(x,y)"
   ]
  },
  {
   "cell_type": "code",
   "execution_count": 76,
   "id": "8f9c6592",
   "metadata": {},
   "outputs": [
    {
     "data": {
      "text/plain": [
       "{'alpha': 0.1, 'learning_rate': 0.1, 'max_depth': 4}"
      ]
     },
     "execution_count": 76,
     "metadata": {},
     "output_type": "execute_result"
    }
   ],
   "source": [
    "gb_grid.best_params_"
   ]
  },
  {
   "cell_type": "code",
   "execution_count": 77,
   "id": "7daeaf4a",
   "metadata": {},
   "outputs": [
    {
     "name": "stdout",
     "output_type": "stream",
     "text": [
      "[42.52744897 37.73887633 40.94267829]\n",
      "\n",
      "RMSE for Gradient Boost Regressor is 40.403\n"
     ]
    }
   ],
   "source": [
    "gb = GradientBoostingRegressor(alpha = 0.1,learning_rate = 0.1,max_depth = 4)\n",
    "kf = KFold(n_splits = 3,shuffle = True,random_state = 10)\n",
    "scores_gb_rmse = cross_val_score(gb,x,y,cv = kf,scoring = 'neg_root_mean_squared_error')\n",
    "print(np.abs(scores_gb_rmse))\n",
    "print()\n",
    "print('RMSE for',model_name,'is',round(np.mean(np.abs(scores_gb_rmse)),4))"
   ]
  },
  {
   "cell_type": "code",
   "execution_count": 79,
   "id": "b7a3a2a8",
   "metadata": {},
   "outputs": [
    {
     "name": "stdout",
     "output_type": "stream",
     "text": [
      "[0.9140644  0.92314885 0.91599031]\n",
      "\n",
      "R-square for Gradient Boost Regressor is 0.9177\n"
     ]
    }
   ],
   "source": [
    "gb = GradientBoostingRegressor(alpha = 0.1,learning_rate = 0.1,max_depth = 4)\n",
    "kf = KFold(n_splits = 3,shuffle = True,random_state = 10)\n",
    "scores_gb_r2 = cross_val_score(gb,x,y,cv = kf,scoring = 'r2')\n",
    "print(np.abs(scores_gb_r2))\n",
    "print()\n",
    "scores_gb_r2 = round(np.mean(np.abs(scores_gb_r2)),4)\n",
    "print('R-square for',model_name,'is',scores_gb_r2)"
   ]
  },
  {
   "cell_type": "code",
   "execution_count": 80,
   "id": "4fb25a86",
   "metadata": {},
   "outputs": [
    {
     "name": "stdout",
     "output_type": "stream",
     "text": [
      "Adj.R-square for Gradient Boost Regressor is 0.8709\n"
     ]
    }
   ],
   "source": [
    "print('Adj.R-square for',model_name,'is',round(get_r_sq(x,scores_gb_r2),4))"
   ]
  },
  {
   "cell_type": "markdown",
   "id": "c8fb95b8",
   "metadata": {},
   "source": [
    "# XGBoost Regressor"
   ]
  },
  {
   "cell_type": "code",
   "execution_count": 73,
   "id": "c7f68c78",
   "metadata": {},
   "outputs": [],
   "source": [
    "model_name = 'XGBoost Regressor'"
   ]
  },
  {
   "cell_type": "code",
   "execution_count": 68,
   "id": "a6618b19",
   "metadata": {},
   "outputs": [
    {
     "data": {
      "text/plain": [
       "GridSearchCV(cv=3,\n",
       "             estimator=XGBRegressor(base_score=None, booster=None,\n",
       "                                    colsample_bylevel=None,\n",
       "                                    colsample_bynode=None,\n",
       "                                    colsample_bytree=None,\n",
       "                                    enable_categorical=False, gamma=None,\n",
       "                                    gpu_id=None, importance_type=None,\n",
       "                                    interaction_constraints=None,\n",
       "                                    learning_rate=None, max_delta_step=None,\n",
       "                                    max_depth=None, min_child_weight=None,\n",
       "                                    missing=nan, monotone_constraints=None,\n",
       "                                    n_estimators=100, n_jobs=None,\n",
       "                                    num_parallel_tree=None, predictor=None,\n",
       "                                    random_state=None, reg_alpha=None,\n",
       "                                    reg_lambda=None, scale_pos_weight=None,\n",
       "                                    subsample=None, tree_method=None,\n",
       "                                    validate_parameters=None, verbosity=None),\n",
       "             param_grid={'gamma': [0, 1, 2, 3, 4],\n",
       "                         'learning_rate': [0.1, 0.2, 0.3, 0.4, 0.5, 0.6],\n",
       "                         'max_depth': range(3, 8)},\n",
       "             scoring='r2')"
      ]
     },
     "execution_count": 68,
     "metadata": {},
     "output_type": "execute_result"
    }
   ],
   "source": [
    "xgb = XGBRegressor()\n",
    "tuning_parameters = {'learning_rate': [0.1, 0.2, 0.3, 0.4, 0.5, 0.6],\n",
    "                     'max_depth': range(3,8),\n",
    "                     'gamma': [0, 1, 2, 3, 4]}\n",
    "xgb_grid = GridSearchCV(xgb,tuning_parameters,cv = 3,scoring = 'r2')\n",
    "xgb_grid.fit(x,y)"
   ]
  },
  {
   "cell_type": "code",
   "execution_count": 69,
   "id": "10b3a87d",
   "metadata": {},
   "outputs": [
    {
     "data": {
      "text/plain": [
       "{'gamma': 4, 'learning_rate': 0.1, 'max_depth': 5}"
      ]
     },
     "execution_count": 69,
     "metadata": {},
     "output_type": "execute_result"
    }
   ],
   "source": [
    "xgb_grid.best_params_"
   ]
  },
  {
   "cell_type": "code",
   "execution_count": 129,
   "id": "189021da",
   "metadata": {},
   "outputs": [
    {
     "data": {
      "text/plain": [
       "XGBRegressor(base_score=0.5, booster='gbtree', colsample_bylevel=1,\n",
       "             colsample_bynode=1, colsample_bytree=1, enable_categorical=False,\n",
       "             gamma=4, gpu_id=-1, importance_type=None,\n",
       "             interaction_constraints='', learning_rate=0.1, max_delta_step=0,\n",
       "             max_depth=5, min_child_weight=1, missing=nan,\n",
       "             monotone_constraints='()', n_estimators=100, n_jobs=4,\n",
       "             num_parallel_tree=1, predictor='auto', random_state=0, reg_alpha=0,\n",
       "             reg_lambda=1, scale_pos_weight=1, subsample=1, tree_method='exact',\n",
       "             validate_parameters=1, verbosity=None)"
      ]
     },
     "execution_count": 129,
     "metadata": {},
     "output_type": "execute_result"
    }
   ],
   "source": [
    "xgb = XGBRegressor(gamma = 4,learning_rate = 0.1,max_depth = 5)\n",
    "xgb.fit(x,y)"
   ]
  },
  {
   "cell_type": "code",
   "execution_count": 125,
   "id": "d57b0be2",
   "metadata": {},
   "outputs": [
    {
     "name": "stdout",
     "output_type": "stream",
     "text": [
      "[41.5828087  37.34770312 40.12487064]\n",
      "\n",
      "RMSE for Linear Regression - Ridge is 39.6851\n"
     ]
    }
   ],
   "source": [
    "xgb = XGBRegressor(gamma = 4,learning_rate = 0.1,max_depth = 5)\n",
    "kf = KFold(n_splits = 3,shuffle = True,random_state = 10)\n",
    "scores_xgb_rmse = cross_val_score(xgb,x,y,cv = kf,scoring = 'neg_root_mean_squared_error')\n",
    "print(np.abs(scores_xgb_rmse))\n",
    "print()\n",
    "print('RMSE for',model_name,'is',round(np.mean(np.abs(scores_xgb_rmse)),4))"
   ]
  },
  {
   "cell_type": "code",
   "execution_count": 71,
   "id": "9b3c5dca",
   "metadata": {},
   "outputs": [
    {
     "name": "stdout",
     "output_type": "stream",
     "text": [
      "[0.91749789 0.92472441 0.91935814]\n",
      "\n",
      "R-square for XGBoost Regressor is 0.9205\n"
     ]
    }
   ],
   "source": [
    "xgb = XGBRegressor(gamma = 4,learning_rate =0.1,max_depth = 5)\n",
    "kf = KFold(n_splits = 3,shuffle = True,random_state = 10)\n",
    "scores_xgb_r2 = cross_val_score(xgb,x,y,cv = kf,scoring = 'r2')\n",
    "print(np.abs(scores_xgb_r2))\n",
    "print()\n",
    "scores_xgb_r2 = round(np.mean(np.abs(scores_xgb_r2)),4)\n",
    "print('R-square for',model_name,'is',scores_xgb_r2)"
   ]
  },
  {
   "cell_type": "code",
   "execution_count": 89,
   "id": "7c014ea9",
   "metadata": {},
   "outputs": [
    {
     "name": "stdout",
     "output_type": "stream",
     "text": [
      "Adj.R-square for Random Forest Regressor is 0.9205\n"
     ]
    }
   ],
   "source": [
    "print('Adj.R-square for',model_name,'is',round(get_adj_r_sq(x,scores_xgb_r2),4))"
   ]
  },
  {
   "cell_type": "code",
   "execution_count": 133,
   "id": "605b0e28",
   "metadata": {},
   "outputs": [
    {
     "data": {
      "image/png": "[encoded data removed]",
      "text/plain": [
       "<Figure size 864x504 with 1 Axes>"
      ]
     },
     "metadata": {
      "needs_background": "light"
     },
     "output_type": "display_data"
    }
   ],
   "source": [
    "plt.figure(figsize = (12,7))\n",
    "important_features = pd.DataFrame({'Features': x.columns, \n",
    "                                   'Importance': xgb.feature_importances_})\n",
    "\n",
    "# sort the dataframe in the descending order according to the feature importance\n",
    "important_features = important_features.sort_values('Importance', ascending = False)\n",
    "\n",
    "# create a barplot to visualize the features based on their importance\n",
    "sns.barplot(x = 'Importance', y = 'Features', data = important_features)\n",
    "\n",
    "\n",
    "plt.title('Feature Importance', fontsize = 15)\n",
    "plt.xlabel('Importance', fontsize = 15)\n",
    "plt.ylabel('Features', fontsize = 15)\n",
    "\n",
    "# display the plot\n",
    "plt.show()"
   ]
  },
  {
   "cell_type": "markdown",
   "id": "cbff4a44",
   "metadata": {},
   "source": [
    "# Stacking Regressor"
   ]
  },
  {
   "cell_type": "code",
   "execution_count": 94,
   "id": "6892b185",
   "metadata": {},
   "outputs": [],
   "source": [
    "estimators = [('rnd', RandomForestRegressor(random_state=100,max_depth= 7,min_samples_split=3 ,n_estimators = 150)),\n",
    "              ('gb', GradientBoostingRegressor(alpha = 0.1,learning_rate = 0.1,max_depth = 4))]\n",
    "reg = StackingRegressor(estimators=estimators,final_estimator=XGBRegressor(gamma = 4,learning_rate = 0.1,max_depth = 5))"
   ]
  },
  {
   "cell_type": "code",
   "execution_count": 96,
   "id": "ca6bacca",
   "metadata": {},
   "outputs": [],
   "source": [
    "from sklearn.model_selection import train_test_split"
   ]
  },
  {
   "cell_type": "code",
   "execution_count": 97,
   "id": "6a432eed",
   "metadata": {},
   "outputs": [
    {
     "data": {
      "text/plain": [
       "StackingRegressor(estimators=[('rnd',\n",
       "                               RandomForestRegressor(max_depth=7,\n",
       "                                                     min_samples_split=3,\n",
       "                                                     n_estimators=150,\n",
       "                                                     random_state=100)),\n",
       "                              ('gb',\n",
       "                               GradientBoostingRegressor(alpha=0.1,\n",
       "                                                         max_depth=4))],\n",
       "                  final_estimator=XGBRegressor(base_score=None, booster=None,\n",
       "                                               colsample_bylevel=None,\n",
       "                                               colsample_bynode=None,\n",
       "                                               colsample_bytree=None,\n",
       "                                               enable_categorical=False,\n",
       "                                               gamma=4, gpu_id=N...\n",
       "                                               interaction_constraints=None,\n",
       "                                               learning_rate=0.1,\n",
       "                                               max_delta_step=None, max_depth=5,\n",
       "                                               min_child_weight=None,\n",
       "                                               missing=nan,\n",
       "                                               monotone_constraints=None,\n",
       "                                               n_estimators=100, n_jobs=None,\n",
       "                                               num_parallel_tree=None,\n",
       "                                               predictor=None,\n",
       "                                               random_state=None,\n",
       "                                               reg_alpha=None, reg_lambda=None,\n",
       "                                               scale_pos_weight=None,\n",
       "                                               subsample=None, tree_method=None,\n",
       "                                               validate_parameters=None,\n",
       "                                               verbosity=None))"
      ]
     },
     "execution_count": 97,
     "metadata": {},
     "output_type": "execute_result"
    }
   ],
   "source": [
    "X_train, X_test, y_train, y_test = train_test_split(x, y, random_state = 10, test_size = 0.2)\n",
    "reg.fit(X_train, y_train)"
   ]
  },
  {
   "cell_type": "code",
   "execution_count": 98,
   "id": "383a4bad",
   "metadata": {},
   "outputs": [
    {
     "data": {
      "text/plain": [
       "0.9039224306154665"
      ]
     },
     "execution_count": 98,
     "metadata": {},
     "output_type": "execute_result"
    }
   ],
   "source": [
    "reg.score(X_test,y_test)"
   ]
  }
 ],
 "metadata": {
  "kernelspec": {
   "display_name": "Python 3",
   "language": "python",
   "name": "python3"
  },
  "language_info": {
   "codemirror_mode": {
    "name": "ipython",
    "version": 3
   },
   "file_extension": ".py",
   "mimetype": "text/x-python",
   "name": "python",
   "nbconvert_exporter": "python",
   "pygments_lexer": "ipython3",
   "version": "3.8.8"
  }
 },
 "nbformat": 4,
 "nbformat_minor": 5
}
